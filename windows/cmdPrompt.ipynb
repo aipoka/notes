{
 "cells": [
  {
   "cell_type": "markdown",
   "metadata": {},
   "source": [
    "changing window prompt window encoding to utf-8:\n",
    "    chcp 65001 \n",
    "    \n",
    "reference:\n",
    "    windows cmd命令显示UTF8设置 [http://www.cnblogs.com/QQParadise/articles/1685177.htm]   \n",
    "    or [http://www.360doc.com/content/14/0902/21/13883922_406610370.shtml]\n",
    "    \n",
    "    "
   ]
  },
  {
   "cell_type": "code",
   "execution_count": null,
   "metadata": {
    "collapsed": true
   },
   "outputs": [],
   "source": []
  }
 ],
 "metadata": {
  "kernelspec": {
   "display_name": "Python 3",
   "language": "python",
   "name": "python3"
  },
  "language_info": {
   "codemirror_mode": {
    "name": "ipython",
    "version": 3
   },
   "file_extension": ".py",
   "mimetype": "text/x-python",
   "name": "python",
   "nbconvert_exporter": "python",
   "pygments_lexer": "ipython3",
   "version": "3.5.2"
  }
 },
 "nbformat": 4,
 "nbformat_minor": 1
}
