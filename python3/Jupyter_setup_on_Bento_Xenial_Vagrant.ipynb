{
 "cells": [
  {
   "cell_type": "markdown",
   "metadata": {},
   "source": [
    "<pre><code>\n",
    "\n",
    "1) prerequisite softwares:  \n",
    "   oracle virtualbox -- vm provider\n",
    "   git -- ssh client \n",
    "   vagrant -- vm managing tool \n",
    "\n",
    "2) vagrant box add bento/ubuntu16.04\n",
    "   vagrant init bento/ubuntu16.04\n",
    "\n",
    "3) modifying vagrant configuration file as following:  \n",
    "   config.vm.synced_folder \".\", \"/vagrant\"\n",
    "   config.vm.synced_folder \"./workspace\", \"/home/vagrant/workspace\", create:true\n",
    "\n",
    "   config.vm.network :forwarded_port, guest: 8888, host: 4568\n",
    "   config.vm.network \"public_network\", use_dhcp_assigned_default_route: true   \n",
    " \n",
    "4) setup jupyter \n",
    "   python3 --version\n",
    "   sudo apt update\n",
    "   sudo apt install python3-pip -y\n",
    "   pip3 install jupyter\n",
    "   pip3 install --upgrade pip\n",
    "   sudo apt install python3-venv \n",
    "\n",
    "5) jupyter can't be accessed remotely although we have port forwarding in vm provision, to solve this issue:\n",
    "   generate configuration using \n",
    "      jupyter notebook --generate-config\n",
    "   then using vi to edit jupyter_notebook_config.py under ~/.jupyter directory\n",
    "   add line \n",
    "      c.NotebookApp.ip = '0.0.0.0'\n",
    "\n",
    "6) start jupyter notebook\n",
    "   jupyter notebook --no-browser &\n",
    "\n",
    "7) ifconfig to find ip address for vm \n",
    "   access jupyter server remotely using ip:port\n",
    "\n",
    "</code></pre> \n",
    "\n",
    "references for issues in 5:  \n",
    "  1)  [from jupyter docs](http://jupyter-notebook.readthedocs.io/en/latest/public_server.html#notebook-public-server)  \n",
    "  2)  [from stackoverflow](http://stackoverflow.com/questions/38545198/access-jupyter-notebook-running-on-vm)"
   ]
  },
  {
   "cell_type": "code",
   "execution_count": null,
   "metadata": {
    "collapsed": true
   },
   "outputs": [],
   "source": []
  }
 ],
 "metadata": {
  "kernelspec": {
   "display_name": "Python 3",
   "language": "python",
   "name": "python3"
  },
  "language_info": {
   "codemirror_mode": {
    "name": "ipython",
    "version": 3
   },
   "file_extension": ".py",
   "mimetype": "text/x-python",
   "name": "python",
   "nbconvert_exporter": "python",
   "pygments_lexer": "ipython3",
   "version": "3.5.2"
  }
 },
 "nbformat": 4,
 "nbformat_minor": 1
}
