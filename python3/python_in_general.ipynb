{
 "cells": [
  {
   "cell_type": "markdown",
   "metadata": {},
   "source": [
    "* General:\n",
    "     1. Ignore a value (using double underscore):  \n",
    "          f.e. basename, __, extension = \"readme.txt\".rpartition('.')  \n",
    "          \n",
    "     \n",
    "     2. Exception safe contexts:  using with statement and context managing protocol to replace try/finally clauses. The protocol contains two method, __enter__(), __exit__(), that when implemented for an object allows it to be used via the new with statement.  \n",
    "      \n",
    "        f.e.  import threading\n",
    "              somelock = threading.lock()\n",
    "              with somelock:\n",
    "                  ...  \n",
    "                  \n",
    "        Stantdard lib module contextlib provides additional tools to turn function into manageable context. \n",
    "        f.e.  with contextlib.closing(open(\"somefile\",'w')) as output:\n",
    "                ...    \n",
    "       \n",
    "     3. Namespace introspection: dir(object) -> a list, globals() -> a dict, locals() -> a dict\n"
   ]
  },
  {
   "cell_type": "markdown",
   "metadata": {},
   "source": [
    "* List:\n",
    "    1. Create length-N list of same thing \n",
    "           a = [None] *4\n",
    "       However if the repricated thing is mutable, such as a list, its recommended to use list comprehension instead of * operator:\n",
    "           good:  a = [ [] for __ in range(4)]\n",
    "           bad:   a = [ [] ] *4\n",
    "       although both assignments ended up generating [[],[],[],[]], the good one is a list of four things, and the bad one is ist of for refernces pointing to the same list, check with id(a[0]), id(a[1]) to see the difference.\n",
    "    \n",
    "    "
   ]
  },
  {
   "cell_type": "markdown",
   "metadata": {},
   "source": [
    "* String:\n",
    "    1. create a string using str.join() on an empty string  \n",
    "            a = ''.join(['hello',' world')  \n",
    "            \n",
    "    2. or create a string using pure string addition  \n",
    "            a = '{s1}, {s2}'.format(s1='hello',s2='world') \n",
    "     \n",
    " "
   ]
  },
  {
   "cell_type": "code",
   "execution_count": null,
   "metadata": {
    "collapsed": true
   },
   "outputs": [],
   "source": []
  }
 ],
 "metadata": {
  "kernelspec": {
   "display_name": "Python 3",
   "language": "python",
   "name": "python3"
  },
  "language_info": {
   "codemirror_mode": {
    "name": "ipython",
    "version": 3
   },
   "file_extension": ".py",
   "mimetype": "text/x-python",
   "name": "python",
   "nbconvert_exporter": "python",
   "pygments_lexer": "ipython3",
   "version": "3.5.2"
  }
 },
 "nbformat": 4,
 "nbformat_minor": 1
}
